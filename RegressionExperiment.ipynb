{
 "cells": [
  {
   "cell_type": "code",
   "execution_count": 31,
   "metadata": {},
   "outputs": [
    {
     "name": "stdout",
     "output_type": "stream",
     "text": [
      "(102, 13)\n"
     ]
    }
   ],
   "source": [
    "from sklearn import datasets as ds \n",
    "from sklearn.model_selection import train_test_split\n",
    "import matplotlib.pyplot as plt\n",
    "import numpy as np\n",
    "\n",
    "housing_x , housing_y = ds.load_svmlight_file('housing.txt')\n",
    "x_train, x_test, y_train, y_test = train_test_split(housing_x, housing_y, test_size=0.2)\n",
    "# print (type(housing_y))\n",
    "x_train_array = x_train.toarray()\n",
    "x_test_array = x_test.toarray()"
   ]
  },
  {
   "cell_type": "markdown",
   "metadata": {},
   "source": [
    "# loss函数：$J(\\theta)=\\frac{1}{2m}\\sum_{i=0}^m (h(x^i)-y^i)^2$\n",
    "# 梯度：$J(\\theta_j) = \\frac{1}{m}\\sum_{i=0}^m ((h(x^i)-y^i)*x_j^i)$"
   ]
  },
  {
   "cell_type": "code",
   "execution_count": 32,
   "metadata": {},
   "outputs": [
    {
     "name": "stdout",
     "output_type": "stream",
     "text": [
      "[[-0.929026  -1.         0.293255  ...,  0.684805  -0.315673   1.       ]\n",
      " [-0.982374  -1.        -0.307918  ...,  1.        -0.765453   1.       ]\n",
      " [-0.995841  -0.56      -0.604106  ...,  0.960815  -0.0767108  1.       ]\n",
      " ..., \n",
      " [-0.734607  -1.         0.293255  ..., -0.757275   0.159492   1.       ]\n",
      " [-0.805812  -1.         0.293255  ...,  1.        -0.258278   1.       ]\n",
      " [-0.985985  -1.        -0.43695   ...,  1.        -0.639625   1.       ]]\n"
     ]
    }
   ],
   "source": [
    "#初始化参数值\n",
    "theta_array = np.zeros(14)\n",
    "col_theta, = theta_array.shape\n",
    "\n",
    "rate = 0.001\n",
    "# print (theta_array)\n",
    "\n",
    "row_train ,col_train = x_train_array.shape\n",
    "train_column = np.ones(row_train)\n",
    "x_train_array = np.column_stack((x_train_array,train_column))\n",
    "row_train ,col_train = x_train_array.shape\n",
    "\n",
    "row_test, col_test = x_test_array.shape\n",
    "test_column = np.ones(row_test)\n",
    "x_test_array = np.column_stack((x_test_array,test_column))\n",
    "row_test, col_test = x_test_array.shape"
   ]
  },
  {
   "cell_type": "code",
   "execution_count": 3,
   "metadata": {
    "collapsed": true
   },
   "outputs": [],
   "source": [
    "def function(x):\n",
    "    sum_median = 0\n",
    "    for i in range(col_theta): \n",
    "        sum_median = sum_median + theta_array[i]*x[i]\n",
    "    return sum_median "
   ]
  },
  {
   "cell_type": "code",
   "execution_count": 4,
   "metadata": {
    "collapsed": true
   },
   "outputs": [],
   "source": [
    "def train_loss():\n",
    "    sum_loss = 0\n",
    "    for x_term,y_term in zip(x_train_array,y_train):\n",
    "        sum_loss = sum_loss + np.square(function(x_term) - y_term)\n",
    "    return sum_loss / 2 / row_train"
   ]
  },
  {
   "cell_type": "code",
   "execution_count": 5,
   "metadata": {
    "collapsed": true
   },
   "outputs": [],
   "source": [
    "def test_loss():\n",
    "    sum_loss = 0\n",
    "    for x_term,y_term in zip(x_test_array,y_test):\n",
    "        sum_loss = sum_loss + np.square(function(x_term) - y_term)\n",
    "    return sum_loss / 2 / row_test"
   ]
  },
  {
   "cell_type": "code",
   "execution_count": 6,
   "metadata": {
    "collapsed": true
   },
   "outputs": [],
   "source": [
    "def compute_descent(num):\n",
    "    sum = 0\n",
    "    for x,y in zip(x_train_array,y_train):\n",
    "        sum = sum + ( function(x) - y )*x[j]\n",
    "    return rate * sum / row_train"
   ]
  },
  {
   "cell_type": "code",
   "execution_count": 33,
   "metadata": {
    "scrolled": true
   },
   "outputs": [
    {
     "data": {
      "image/png": "[encoded data removed]",
      "text/plain": [
       "<matplotlib.figure.Figure at 0x1de459464e0>"
      ]
     },
     "metadata": {},
     "output_type": "display_data"
    }
   ],
   "source": [
    "# 循环10000次  循环theta 循环求和\n",
    "loss_train_tuple = []\n",
    "loss_test_tupe = []\n",
    "for i in range(1000):\n",
    "    for j in range(col_theta):\n",
    "        descent = compute_descent(j)\n",
    "        theta_array[j] = theta_array[j] - descent\n",
    "    loss_train_tuple.append(train_loss())\n",
    "    loss_test_tupe.append(test_loss())\n",
    "plt.title('relation between\\nloss and training times')\n",
    "plt.xlabel('training time')\n",
    "plt.ylabel('loss')\n",
    "plt.plot(loss_train_tuple,label= \"Train loss\",color = 'red')\n",
    "plt.plot(loss_test_tupe,label= \"Test loss\",color = 'blue')\n",
    "plt.legend(loc='upper right')\n",
    "plt.grid()\n",
    "plt.show()"
   ]
  }
 ],
 "metadata": {
  "kernelspec": {
   "display_name": "Python 3",
   "language": "python",
   "name": "python3"
  },
  "language_info": {
   "codemirror_mode": {
    "name": "ipython",
    "version": 3
   },
   "file_extension": ".py",
   "mimetype": "text/x-python",
   "name": "python",
   "nbconvert_exporter": "python",
   "pygments_lexer": "ipython3",
   "version": "3.6.3"
  }
 },
 "nbformat": 4,
 "nbformat_minor": 2
}
