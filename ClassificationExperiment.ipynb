{
 "cells": [
  {
   "cell_type": "code",
   "execution_count": 51,
   "metadata": {},
   "outputs": [
    {
     "name": "stdout",
     "output_type": "stream",
     "text": [
      "(552, 14)\n"
     ]
    }
   ],
   "source": [
    "from sklearn import datasets as ds \n",
    "from sklearn.model_selection import train_test_split\n",
    "import matplotlib.pyplot as plt\n",
    "import numpy as np\n",
    "\n",
    "data_x , data_y = ds.load_svmlight_file('australian.txt')\n",
    "x_train, x_test, y_train, y_test = train_test_split(data_x, data_y, test_size=0.2)\n",
    "x_train_array = x_train.toarray()\n",
    "x_test_array = x_test.toarray()"
   ]
  },
  {
   "cell_type": "code",
   "execution_count": 52,
   "metadata": {},
   "outputs": [
    {
     "name": "stdout",
     "output_type": "stream",
     "text": [
      "(552, 15)\n"
     ]
    }
   ],
   "source": [
    "#初始化参数值\n",
    "theta_array = np.zeros(15)\n",
    "descent_array = np.zeros(15)\n",
    "col_theta, = theta_array.shape\n",
    "\n",
    "rate = 0.0001\n",
    "C = 0.1\n",
    "\n",
    "row_train ,col_train = x_train_array.shape\n",
    "train_column = np.ones(row_train)\n",
    "x_train_array = np.column_stack((x_train_array,train_column))\n",
    "row_train ,col_train = x_train_array.shape\n",
    "\n",
    "row_test, col_test = x_test_array.shape\n",
    "test_column = np.ones(row_test)\n",
    "x_test_array = np.column_stack((x_test_array,test_column))\n",
    "row_test, col_test = x_test_array.shape"
   ]
  },
  {
   "cell_type": "code",
   "execution_count": 34,
   "metadata": {
    "collapsed": true
   },
   "outputs": [],
   "source": [
    "def compute_function(x):\n",
    "    sum = 0\n",
    "    for i in range(col_theta):\n",
    "        sum = sum + theta_array[i] * x[i]\n",
    "    return sum"
   ]
  },
  {
   "cell_type": "code",
   "execution_count": 35,
   "metadata": {
    "collapsed": true
   },
   "outputs": [],
   "source": [
    "def compute_sum():\n",
    "    sum = np.zeros(15)\n",
    "    for x,y in zip(x_train_array,y_train):\n",
    "        if 1 - y * compute_function(x) >= 0 :\n",
    "            sum = sum - y * x\n",
    "    return sum"
   ]
  },
  {
   "cell_type": "code",
   "execution_count": 36,
   "metadata": {
    "collapsed": true
   },
   "outputs": [],
   "source": [
    "def compute_descent():\n",
    "    return theta_array + C * compute_sum()"
   ]
  },
  {
   "cell_type": "code",
   "execution_count": 37,
   "metadata": {
    "collapsed": true
   },
   "outputs": [],
   "source": [
    "def train_loss():\n",
    "    sum_loss = 0\n",
    "    \n",
    "    for i in range(col_theta):\n",
    "        sum_loss = sum_loss + theta_array[i] * theta_array[i]\n",
    "    sum_loss = sum_loss / 2\n",
    "    \n",
    "    for x_term,y_term in zip(x_train_array,y_train):\n",
    "        sum_loss = sum_loss + C * max( 0 , 1 - y_term * compute_function(x_term) )\n",
    "         \n",
    "    return sum_loss "
   ]
  },
  {
   "cell_type": "code",
   "execution_count": 38,
   "metadata": {
    "collapsed": true
   },
   "outputs": [],
   "source": [
    "def test_loss():\n",
    "    sum_loss = 0\n",
    "    \n",
    "    for i in range(col_theta):\n",
    "        sum_loss = sum_loss + theta_array[i] * theta_array[i]\n",
    "    sum_loss = sum_loss / 2\n",
    "    \n",
    "    for x_term,y_term in zip(x_test_array,y_test):\n",
    "        sum_loss = sum_loss + C * max( 0 , 1 - y_term * compute_function(x_term) ) \n",
    "         \n",
    "    return sum_loss "
   ]
  },
  {
   "cell_type": "code",
   "execution_count": 53,
   "metadata": {},
   "outputs": [
    {
     "data": {
      "image/png": "[encoded data removed]",
      "text/plain": [
       "<matplotlib.figure.Figure at 0x16bc90089e8>"
      ]
     },
     "metadata": {},
     "output_type": "display_data"
    }
   ],
   "source": [
    "#循环1000次 循环改变梯度每个分量 分量的每个里面的g(x)  g(x)里的判断\n",
    "loss_train_tuple = []\n",
    "loss_test_tupe = []\n",
    "for i in range(5000):\n",
    "    descent_array = compute_descent()\n",
    "    theta_array = theta_array - rate * descent_array\n",
    "    loss_train_tuple.append(train_loss())\n",
    "    loss_test_tupe.append(test_loss())\n",
    "plt.title('relation between\\nloss and training times')\n",
    "plt.xlabel('training time')\n",
    "plt.ylabel('loss')\n",
    "plt.plot(loss_train_tuple,label = 'Train loss',color = 'red')\n",
    "plt.plot(loss_test_tupe,label = 'Test loss',color = 'blue')\n",
    "plt.legend(loc='upper right')\n",
    "plt.grid()\n",
    "plt.show()"
   ]
  }
 ],
 "metadata": {
  "kernelspec": {
   "display_name": "Python 3",
   "language": "python",
   "name": "python3"
  },
  "language_info": {
   "codemirror_mode": {
    "name": "ipython",
    "version": 3
   },
   "file_extension": ".py",
   "mimetype": "text/x-python",
   "name": "python",
   "nbconvert_exporter": "python",
   "pygments_lexer": "ipython3",
   "version": "3.6.3"
  }
 },
 "nbformat": 4,
 "nbformat_minor": 2
}
